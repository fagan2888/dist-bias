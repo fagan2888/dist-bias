{
 "cells": [
  {
   "cell_type": "code",
   "execution_count": 1,
   "metadata": {
    "collapsed": false
   },
   "outputs": [],
   "source": [
    "import pandas as pd\n",
    "import numpy as np\n",
    "import matplotlib\n",
    "matplotlib.use('Agg');\n",
    "import matplotlib.pyplot as plt\n",
    "plt.set_cmap('jet');\n",
    "%matplotlib inline"
   ]
  },
  {
   "cell_type": "code",
   "execution_count": 2,
   "metadata": {
    "collapsed": true
   },
   "outputs": [],
   "source": [
    "import h5py"
   ]
  },
  {
   "cell_type": "code",
   "execution_count": 3,
   "metadata": {
    "collapsed": false
   },
   "outputs": [],
   "source": [
    "d = h5py.File(\"/data/lisa/data/BRATS15/BRATS2015_train\", mode='r')\n",
    "d = d['/BRAINS']"
   ]
  },
  {
   "cell_type": "code",
   "execution_count": 324,
   "metadata": {
    "collapsed": false
   },
   "outputs": [
    {
     "data": {
      "text/plain": [
       "[u'HG_brats_tcia_pat105_0001',\n",
       " u'HG_brats_tcia_pat111_0001',\n",
       " u'HG_brats_tcia_pat117_0001',\n",
       " u'HG_brats_tcia_pat120_0001',\n",
       " u'HG_brats_tcia_pat131_0001',\n",
       " u'HG_brats_tcia_pat133_0001',\n",
       " u'HG_brats_tcia_pat138_0001',\n",
       " u'HG_brats_tcia_pat147_0001',\n",
       " u'HG_brats_tcia_pat149_0001',\n",
       " u'HG_brats_tcia_pat150_0001']"
      ]
     },
     "execution_count": 324,
     "metadata": {},
     "output_type": "execute_result"
    }
   ],
   "source": [
    "list(d)[:10]"
   ]
  },
  {
   "cell_type": "code",
   "execution_count": null,
   "metadata": {
    "collapsed": false
   },
   "outputs": [],
   "source": []
  },
  {
   "cell_type": "code",
   "execution_count": 329,
   "metadata": {
    "collapsed": false
   },
   "outputs": [],
   "source": [
    "howmany = 99999\n",
    "width = 240"
   ]
  },
  {
   "cell_type": "code",
   "execution_count": 330,
   "metadata": {
    "collapsed": false
   },
   "outputs": [
    {
     "data": {
      "text/plain": [
       "(23560, 240, 120)"
      ]
     },
     "execution_count": 330,
     "metadata": {},
     "output_type": "execute_result"
    }
   ],
   "source": [
    "modality = 0\n",
    "all_flair_images = [d[brain]['images'][modality].transpose(2,1,0)[:,:,width/2:] for brain in list(d)[:howmany]]\n",
    "\n",
    "#save mask info\n",
    "brain_mask_images = [(brain != 0) for brain in all_flair_images]\n",
    "masks = np.concatenate(brain_mask_images, axis=0)\n",
    "\n",
    "all_flair_images = [1-((brain == 0)*brain.min()+brain) for brain in all_flair_images]\n",
    "\n",
    "# normalize between 0 and one\n",
    "image_min, image_max = np.min(all_flair_images), np.max(all_flair_images)\n",
    "all_flair_images = [(2*(brain-image_min))/(image_max-image_min)-1 for brain in all_flair_images]\n",
    "\n",
    "flair = np.concatenate(all_flair_images, axis=0)\n",
    "flair.shape"
   ]
  },
  {
   "cell_type": "code",
   "execution_count": 331,
   "metadata": {
    "collapsed": false
   },
   "outputs": [
    {
     "data": {
      "text/plain": [
       "(-1.0, 1.0)"
      ]
     },
     "execution_count": 331,
     "metadata": {},
     "output_type": "execute_result"
    }
   ],
   "source": [
    "#np.min(all_flair_images), np.max(all_flair_images)"
   ]
  },
  {
   "cell_type": "code",
   "execution_count": 332,
   "metadata": {
    "collapsed": false
   },
   "outputs": [
    {
     "data": {
      "image/png": "[encoded data removed]",
      "text/plain": [
       "<matplotlib.figure.Figure at 0x7f65e9444710>"
      ]
     },
     "metadata": {},
     "output_type": "display_data"
    }
   ],
   "source": [
    "plt.imshow(flair[100], cmap='Greys');"
   ]
  },
  {
   "cell_type": "code",
   "execution_count": null,
   "metadata": {
    "collapsed": false
   },
   "outputs": [],
   "source": []
  },
  {
   "cell_type": "code",
   "execution_count": 333,
   "metadata": {
    "collapsed": false
   },
   "outputs": [
    {
     "data": {
      "image/png": "[encoded data removed]",
      "text/plain": [
       "<matplotlib.figure.Figure at 0x7f68a9240fd0>"
      ]
     },
     "metadata": {},
     "output_type": "display_data"
    }
   ],
   "source": [
    "plt.imshow(masks[100]);"
   ]
  },
  {
   "cell_type": "code",
   "execution_count": null,
   "metadata": {
    "collapsed": true
   },
   "outputs": [],
   "source": []
  },
  {
   "cell_type": "code",
   "execution_count": 334,
   "metadata": {
    "collapsed": false
   },
   "outputs": [
    {
     "data": {
      "text/plain": [
       "(23560, 240, 120)"
      ]
     },
     "execution_count": 334,
     "metadata": {},
     "output_type": "execute_result"
    }
   ],
   "source": [
    "modality = 1\n",
    "all_t1_images = [d[brain]['images'][modality].transpose(2,1,0)[:,:,width/2:] for brain in list(d)[:howmany]]\n",
    "\n",
    "all_t1_images = [1-((brain == 0)*brain.min()+brain) for brain in all_t1_images]\n",
    "\n",
    "# normalize between 0 and one\n",
    "image_min, image_max = np.min(all_t1_images), np.max(all_t1_images)\n",
    "all_t1_images = [(2*(brain-image_min))/(image_max-image_min)-1 for brain in all_t1_images]\n",
    "\n",
    "t1 = np.concatenate(all_t1_images, axis=0)\n",
    "t1.shape"
   ]
  },
  {
   "cell_type": "code",
   "execution_count": 335,
   "metadata": {
    "collapsed": false
   },
   "outputs": [],
   "source": [
    "#np.min(all_t1_images), np.max(all_t1_images)"
   ]
  },
  {
   "cell_type": "code",
   "execution_count": 336,
   "metadata": {
    "collapsed": false
   },
   "outputs": [
    {
     "data": {
      "image/png": "[encoded data removed]",
      "text/plain": [
       "<matplotlib.figure.Figure at 0x7f68a8fde910>"
      ]
     },
     "metadata": {},
     "output_type": "display_data"
    }
   ],
   "source": [
    "plt.imshow(t1[100], cmap='Greys');"
   ]
  },
  {
   "cell_type": "code",
   "execution_count": null,
   "metadata": {
    "collapsed": true
   },
   "outputs": [],
   "source": []
  },
  {
   "cell_type": "code",
   "execution_count": null,
   "metadata": {
    "collapsed": true
   },
   "outputs": [],
   "source": []
  },
  {
   "cell_type": "code",
   "execution_count": 337,
   "metadata": {
    "collapsed": false
   },
   "outputs": [
    {
     "data": {
      "text/plain": [
       "(23560, 240, 120)"
      ]
     },
     "execution_count": 337,
     "metadata": {},
     "output_type": "execute_result"
    }
   ],
   "source": [
    "all_labels = [d[brain]['labels'][:].transpose(2,1,0)[:,:,width/2:] for brain in list(d)[:howmany]]\n",
    "labels = np.concatenate(all_labels, axis=0)\n",
    "labels.shape"
   ]
  },
  {
   "cell_type": "code",
   "execution_count": null,
   "metadata": {
    "collapsed": false
   },
   "outputs": [],
   "source": []
  },
  {
   "cell_type": "code",
   "execution_count": 338,
   "metadata": {
    "collapsed": false
   },
   "outputs": [
    {
     "data": {
      "text/plain": [
       "3481"
      ]
     },
     "execution_count": 338,
     "metadata": {},
     "output_type": "execute_result"
    }
   ],
   "source": [
    "np.argmax(labels.sum(axis=(1,2)))"
   ]
  },
  {
   "cell_type": "code",
   "execution_count": 339,
   "metadata": {
    "collapsed": false
   },
   "outputs": [
    {
     "data": {
      "text/plain": [
       "<matplotlib.image.AxesImage at 0x7f68aacc2450>"
      ]
     },
     "execution_count": 339,
     "metadata": {},
     "output_type": "execute_result"
    },
    {
     "data": {
      "image/png": "[encoded data removed]",
      "text/plain": [
       "<matplotlib.figure.Figure at 0x7f65f2ace390>"
      ]
     },
     "metadata": {},
     "output_type": "display_data"
    }
   ],
   "source": [
    "plt.imshow(labels[996])"
   ]
  },
  {
   "cell_type": "code",
   "execution_count": null,
   "metadata": {
    "collapsed": false
   },
   "outputs": [],
   "source": []
  },
  {
   "cell_type": "code",
   "execution_count": null,
   "metadata": {
    "collapsed": true
   },
   "outputs": [],
   "source": []
  },
  {
   "cell_type": "code",
   "execution_count": null,
   "metadata": {
    "collapsed": true
   },
   "outputs": [],
   "source": []
  },
  {
   "cell_type": "code",
   "execution_count": 275,
   "metadata": {
    "collapsed": true
   },
   "outputs": [],
   "source": [
    "# from ipywidgets import interact, interactive, fixed, interact_manual\n",
    "# import ipywidgets"
   ]
  },
  {
   "cell_type": "code",
   "execution_count": 276,
   "metadata": {
    "collapsed": false
   },
   "outputs": [],
   "source": [
    "# plt.rcParams['figure.figsize'] = (10, 9)\n",
    "# x_widget = ipywidgets.FloatSlider(min=0.0, max=labels.shape[0], step=1);\n",
    "# interact(lambda(x): plt.imshow(labels[int(x)], cmap='Greys'),x=x_widget);"
   ]
  },
  {
   "cell_type": "code",
   "execution_count": null,
   "metadata": {
    "collapsed": true
   },
   "outputs": [],
   "source": []
  },
  {
   "cell_type": "code",
   "execution_count": null,
   "metadata": {
    "collapsed": true
   },
   "outputs": [],
   "source": []
  },
  {
   "cell_type": "code",
   "execution_count": null,
   "metadata": {
    "collapsed": false
   },
   "outputs": [],
   "source": []
  },
  {
   "cell_type": "code",
   "execution_count": null,
   "metadata": {
    "collapsed": true
   },
   "outputs": [],
   "source": []
  },
  {
   "cell_type": "code",
   "execution_count": null,
   "metadata": {
    "collapsed": true
   },
   "outputs": [],
   "source": []
  },
  {
   "cell_type": "code",
   "execution_count": null,
   "metadata": {
    "collapsed": true
   },
   "outputs": [],
   "source": []
  },
  {
   "cell_type": "code",
   "execution_count": null,
   "metadata": {
    "collapsed": false
   },
   "outputs": [],
   "source": []
  },
  {
   "cell_type": "code",
   "execution_count": null,
   "metadata": {
    "collapsed": false
   },
   "outputs": [],
   "source": []
  },
  {
   "cell_type": "code",
   "execution_count": null,
   "metadata": {
    "collapsed": false
   },
   "outputs": [],
   "source": []
  },
  {
   "cell_type": "code",
   "execution_count": 340,
   "metadata": {
    "collapsed": true
   },
   "outputs": [],
   "source": [
    "def get_labels(rightside, mask):\n",
    "    met = {}\n",
    "    met[\"brain\"]    = (1.*(mask!= 0).sum()/((mask == 0).sum() + 1e-10))\n",
    "    met[\"tumor\"]    = (1.*(rightside > 2).sum()/((rightside != 0).sum() + 1e-10))\n",
    "    \n",
    "    met[\"has_enough_brain\"] = met[\"brain\"]     > 0.30\n",
    "    met[\"has_tumor\"]        = met[\"tumor\"]     > 0.05\n",
    "    return met"
   ]
  },
  {
   "cell_type": "code",
   "execution_count": null,
   "metadata": {
    "collapsed": true
   },
   "outputs": [],
   "source": []
  },
  {
   "cell_type": "code",
   "execution_count": 341,
   "metadata": {
    "collapsed": false
   },
   "outputs": [
    {
     "data": {
      "image/png": "[encoded data removed]",
      "text/plain": [
       "<matplotlib.figure.Figure at 0x7f65f24b4a10>"
      ]
     },
     "metadata": {},
     "output_type": "display_data"
    }
   ],
   "source": [
    "slide = 1195\n",
    "\n",
    "label = labels[slide]\n",
    "mask = masks[slide]\n",
    "fla = flair[slide]\n",
    "it1 = t1[slide]\n",
    "\n",
    "met = get_labels(label, mask)\n",
    "\n",
    "plt.rcParams['figure.figsize'] = (17, 9)\n",
    "fig, axarr = plt.subplots(1,5);\n",
    "axarr[0].imshow(label);\n",
    "axarr[0].set_title(\"labels\")\n",
    "axarr[1].imshow(mask);\n",
    "axarr[1].set_title(\"has_enough_brain=\"+ str(met[\"has_enough_brain\"]))\n",
    "axarr[2].imshow(label > 1);\n",
    "axarr[2].set_title(\"has_tumor=\"+ str(met[\"has_tumor\"]))\n",
    "axarr[3].imshow(1-((fla == 0)*fla.min()+fla), cmap='Greys');\n",
    "axarr[3].set_title(\"Flair\")\n",
    "axarr[4].imshow(1-((it1 == 0)*it1.min()+it1), cmap='Greys');\n",
    "axarr[4].set_title(\"T1\")\n",
    "# axarr[5].imshow(1.0-it1c, cmap='Greys');\n",
    "# axarr[5].set_title(\"T1c\")\n",
    "# axarr[6].imshow(1.0-it2, cmap='Greys');\n",
    "# axarr[6].set_title(\"T2\")\n",
    "\n",
    "fig.suptitle(met, y=0.85);"
   ]
  },
  {
   "cell_type": "code",
   "execution_count": null,
   "metadata": {
    "collapsed": true
   },
   "outputs": [],
   "source": []
  },
  {
   "cell_type": "code",
   "execution_count": null,
   "metadata": {
    "collapsed": true
   },
   "outputs": [],
   "source": []
  },
  {
   "cell_type": "code",
   "execution_count": null,
   "metadata": {
    "collapsed": true
   },
   "outputs": [],
   "source": []
  },
  {
   "cell_type": "code",
   "execution_count": null,
   "metadata": {
    "collapsed": true
   },
   "outputs": [],
   "source": []
  },
  {
   "cell_type": "code",
   "execution_count": null,
   "metadata": {
    "collapsed": true
   },
   "outputs": [],
   "source": []
  },
  {
   "cell_type": "code",
   "execution_count": 14,
   "metadata": {
    "collapsed": true
   },
   "outputs": [],
   "source": [
    "# now create a dataframe and compute the label values"
   ]
  },
  {
   "cell_type": "code",
   "execution_count": 345,
   "metadata": {
    "collapsed": false,
    "scrolled": true
   },
   "outputs": [],
   "source": [
    "dataset = []\n",
    "for slide in range(labels.shape[0]):\n",
    "    met = get_labels(labels[slide], masks[slide])\n",
    "    met[\"slide\"] = slide\n",
    "    dataset.append(met)\n",
    "    #if met[\"has_enough_brain\"]:\n",
    "    met[\"flair\"] = flair[slide]\n",
    "    met[\"t1\"] = t1[slide]"
   ]
  },
  {
   "cell_type": "code",
   "execution_count": null,
   "metadata": {
    "collapsed": true
   },
   "outputs": [],
   "source": []
  },
  {
   "cell_type": "code",
   "execution_count": null,
   "metadata": {
    "collapsed": true
   },
   "outputs": [],
   "source": []
  },
  {
   "cell_type": "code",
   "execution_count": null,
   "metadata": {
    "collapsed": true
   },
   "outputs": [],
   "source": []
  },
  {
   "cell_type": "code",
   "execution_count": 346,
   "metadata": {
    "collapsed": true
   },
   "outputs": [],
   "source": [
    "stats = pd.DataFrame(dataset)"
   ]
  },
  {
   "cell_type": "code",
   "execution_count": 347,
   "metadata": {
    "collapsed": false,
    "scrolled": false
   },
   "outputs": [
    {
     "data": {
      "text/html": [
       "<div>\n",
       "<table border=\"1\" class=\"dataframe\">\n",
       "  <thead>\n",
       "    <tr style=\"text-align: right;\">\n",
       "      <th></th>\n",
       "      <th>brain</th>\n",
       "      <th>flair</th>\n",
       "      <th>has_enough_brain</th>\n",
       "      <th>has_tumor</th>\n",
       "      <th>slide</th>\n",
       "      <th>t1</th>\n",
       "      <th>tumor</th>\n",
       "    </tr>\n",
       "  </thead>\n",
       "  <tbody>\n",
       "    <tr>\n",
       "      <th>53</th>\n",
       "      <td>0.302460</td>\n",
       "      <td>[[0.7429826, 0.7429826, 0.7429826, 0.7429826, ...</td>\n",
       "      <td>True</td>\n",
       "      <td>False</td>\n",
       "      <td>53</td>\n",
       "      <td>[[0.84137523, 0.84137523, 0.84137523, 0.841375...</td>\n",
       "      <td>0.0</td>\n",
       "    </tr>\n",
       "    <tr>\n",
       "      <th>54</th>\n",
       "      <td>0.306359</td>\n",
       "      <td>[[0.7429826, 0.7429826, 0.7429826, 0.7429826, ...</td>\n",
       "      <td>True</td>\n",
       "      <td>False</td>\n",
       "      <td>54</td>\n",
       "      <td>[[0.84137523, 0.84137523, 0.84137523, 0.841375...</td>\n",
       "      <td>0.0</td>\n",
       "    </tr>\n",
       "    <tr>\n",
       "      <th>55</th>\n",
       "      <td>0.310222</td>\n",
       "      <td>[[0.7429826, 0.7429826, 0.7429826, 0.7429826, ...</td>\n",
       "      <td>True</td>\n",
       "      <td>False</td>\n",
       "      <td>55</td>\n",
       "      <td>[[0.84137523, 0.84137523, 0.84137523, 0.841375...</td>\n",
       "      <td>0.0</td>\n",
       "    </tr>\n",
       "    <tr>\n",
       "      <th>56</th>\n",
       "      <td>0.312910</td>\n",
       "      <td>[[0.7429826, 0.7429826, 0.7429826, 0.7429826, ...</td>\n",
       "      <td>True</td>\n",
       "      <td>False</td>\n",
       "      <td>56</td>\n",
       "      <td>[[0.84137523, 0.84137523, 0.84137523, 0.841375...</td>\n",
       "      <td>0.0</td>\n",
       "    </tr>\n",
       "    <tr>\n",
       "      <th>57</th>\n",
       "      <td>0.318681</td>\n",
       "      <td>[[0.7429826, 0.7429826, 0.7429826, 0.7429826, ...</td>\n",
       "      <td>True</td>\n",
       "      <td>False</td>\n",
       "      <td>57</td>\n",
       "      <td>[[0.84137523, 0.84137523, 0.84137523, 0.841375...</td>\n",
       "      <td>0.0</td>\n",
       "    </tr>\n",
       "  </tbody>\n",
       "</table>\n",
       "</div>"
      ],
      "text/plain": [
       "       brain                                              flair  \\\n",
       "53  0.302460  [[0.7429826, 0.7429826, 0.7429826, 0.7429826, ...   \n",
       "54  0.306359  [[0.7429826, 0.7429826, 0.7429826, 0.7429826, ...   \n",
       "55  0.310222  [[0.7429826, 0.7429826, 0.7429826, 0.7429826, ...   \n",
       "56  0.312910  [[0.7429826, 0.7429826, 0.7429826, 0.7429826, ...   \n",
       "57  0.318681  [[0.7429826, 0.7429826, 0.7429826, 0.7429826, ...   \n",
       "\n",
       "   has_enough_brain has_tumor  slide  \\\n",
       "53             True     False     53   \n",
       "54             True     False     54   \n",
       "55             True     False     55   \n",
       "56             True     False     56   \n",
       "57             True     False     57   \n",
       "\n",
       "                                                   t1  tumor  \n",
       "53  [[0.84137523, 0.84137523, 0.84137523, 0.841375...    0.0  \n",
       "54  [[0.84137523, 0.84137523, 0.84137523, 0.841375...    0.0  \n",
       "55  [[0.84137523, 0.84137523, 0.84137523, 0.841375...    0.0  \n",
       "56  [[0.84137523, 0.84137523, 0.84137523, 0.841375...    0.0  \n",
       "57  [[0.84137523, 0.84137523, 0.84137523, 0.841375...    0.0  "
      ]
     },
     "execution_count": 347,
     "metadata": {},
     "output_type": "execute_result"
    }
   ],
   "source": [
    "stats[stats.has_enough_brain].head()"
   ]
  },
  {
   "cell_type": "code",
   "execution_count": 348,
   "metadata": {
    "collapsed": false
   },
   "outputs": [],
   "source": [
    "#tostudy = np.random.choice(stats[\"slide\"].unique(), 20)"
   ]
  },
  {
   "cell_type": "code",
   "execution_count": 349,
   "metadata": {
    "collapsed": false,
    "scrolled": false
   },
   "outputs": [],
   "source": [
    "# for sample in tostudy:\n",
    "#     plt.plot(stats[stats[\"slide\"]==sample].slide, stats[stats[\"sample\"]==sample].necrosis, label=sample);\n",
    "# plt.legend();"
   ]
  },
  {
   "cell_type": "code",
   "execution_count": null,
   "metadata": {
    "collapsed": true
   },
   "outputs": [],
   "source": []
  },
  {
   "cell_type": "code",
   "execution_count": null,
   "metadata": {
    "collapsed": true
   },
   "outputs": [],
   "source": []
  },
  {
   "cell_type": "code",
   "execution_count": null,
   "metadata": {
    "collapsed": true
   },
   "outputs": [],
   "source": []
  },
  {
   "cell_type": "code",
   "execution_count": null,
   "metadata": {
    "collapsed": true
   },
   "outputs": [],
   "source": []
  },
  {
   "cell_type": "code",
   "execution_count": 20,
   "metadata": {
    "collapsed": true
   },
   "outputs": [],
   "source": [
    "#build dataset\n",
    "#stratify on two variables"
   ]
  },
  {
   "cell_type": "code",
   "execution_count": 350,
   "metadata": {
    "collapsed": false
   },
   "outputs": [
    {
     "data": {
      "text/plain": [
       "(7666, 7)"
      ]
     },
     "execution_count": 350,
     "metadata": {},
     "output_type": "execute_result"
    }
   ],
   "source": [
    "#base = stats[stats.has_enough_brain][[\"sample\", \"slide\", \"has_tumor\", \"has_necrosis\"]]\n",
    "base = stats[stats.has_enough_brain]\n",
    "base.shape"
   ]
  },
  {
   "cell_type": "code",
   "execution_count": 351,
   "metadata": {
    "collapsed": false
   },
   "outputs": [
    {
     "name": "stdout",
     "output_type": "stream",
     "text": [
      "tumor Counter({False: 5019, True: 2647})\n"
     ]
    }
   ],
   "source": [
    "import collections\n",
    "print \"tumor\", collections.Counter(base.has_tumor)"
   ]
  },
  {
   "cell_type": "code",
   "execution_count": null,
   "metadata": {
    "collapsed": true
   },
   "outputs": [],
   "source": []
  },
  {
   "cell_type": "code",
   "execution_count": 352,
   "metadata": {
    "collapsed": true
   },
   "outputs": [],
   "source": [
    "#np.savez(open(\"domaina.npz\", \"w\"), np.asarray(list(domaina.flair.as_matrix())))"
   ]
  },
  {
   "cell_type": "code",
   "execution_count": 353,
   "metadata": {
    "collapsed": true
   },
   "outputs": [],
   "source": [
    "#np.savez(open(\"domainb.npz\", \"w\"), np.asarray(list(domainb.t1.as_matrix())))"
   ]
  },
  {
   "cell_type": "code",
   "execution_count": 354,
   "metadata": {
    "collapsed": false
   },
   "outputs": [
    {
     "data": {
      "text/html": [
       "<div>\n",
       "<table border=\"1\" class=\"dataframe\">\n",
       "  <thead>\n",
       "    <tr style=\"text-align: right;\">\n",
       "      <th></th>\n",
       "      <th>brain</th>\n",
       "      <th>flair</th>\n",
       "      <th>has_enough_brain</th>\n",
       "      <th>has_tumor</th>\n",
       "      <th>slide</th>\n",
       "      <th>t1</th>\n",
       "      <th>tumor</th>\n",
       "    </tr>\n",
       "  </thead>\n",
       "  <tbody>\n",
       "    <tr>\n",
       "      <th>53</th>\n",
       "      <td>0.302460</td>\n",
       "      <td>[[0.7429826, 0.7429826, 0.7429826, 0.7429826, ...</td>\n",
       "      <td>True</td>\n",
       "      <td>False</td>\n",
       "      <td>53</td>\n",
       "      <td>[[0.84137523, 0.84137523, 0.84137523, 0.841375...</td>\n",
       "      <td>0.0</td>\n",
       "    </tr>\n",
       "    <tr>\n",
       "      <th>54</th>\n",
       "      <td>0.306359</td>\n",
       "      <td>[[0.7429826, 0.7429826, 0.7429826, 0.7429826, ...</td>\n",
       "      <td>True</td>\n",
       "      <td>False</td>\n",
       "      <td>54</td>\n",
       "      <td>[[0.84137523, 0.84137523, 0.84137523, 0.841375...</td>\n",
       "      <td>0.0</td>\n",
       "    </tr>\n",
       "    <tr>\n",
       "      <th>55</th>\n",
       "      <td>0.310222</td>\n",
       "      <td>[[0.7429826, 0.7429826, 0.7429826, 0.7429826, ...</td>\n",
       "      <td>True</td>\n",
       "      <td>False</td>\n",
       "      <td>55</td>\n",
       "      <td>[[0.84137523, 0.84137523, 0.84137523, 0.841375...</td>\n",
       "      <td>0.0</td>\n",
       "    </tr>\n",
       "    <tr>\n",
       "      <th>56</th>\n",
       "      <td>0.312910</td>\n",
       "      <td>[[0.7429826, 0.7429826, 0.7429826, 0.7429826, ...</td>\n",
       "      <td>True</td>\n",
       "      <td>False</td>\n",
       "      <td>56</td>\n",
       "      <td>[[0.84137523, 0.84137523, 0.84137523, 0.841375...</td>\n",
       "      <td>0.0</td>\n",
       "    </tr>\n",
       "    <tr>\n",
       "      <th>57</th>\n",
       "      <td>0.318681</td>\n",
       "      <td>[[0.7429826, 0.7429826, 0.7429826, 0.7429826, ...</td>\n",
       "      <td>True</td>\n",
       "      <td>False</td>\n",
       "      <td>57</td>\n",
       "      <td>[[0.84137523, 0.84137523, 0.84137523, 0.841375...</td>\n",
       "      <td>0.0</td>\n",
       "    </tr>\n",
       "  </tbody>\n",
       "</table>\n",
       "</div>"
      ],
      "text/plain": [
       "       brain                                              flair  \\\n",
       "53  0.302460  [[0.7429826, 0.7429826, 0.7429826, 0.7429826, ...   \n",
       "54  0.306359  [[0.7429826, 0.7429826, 0.7429826, 0.7429826, ...   \n",
       "55  0.310222  [[0.7429826, 0.7429826, 0.7429826, 0.7429826, ...   \n",
       "56  0.312910  [[0.7429826, 0.7429826, 0.7429826, 0.7429826, ...   \n",
       "57  0.318681  [[0.7429826, 0.7429826, 0.7429826, 0.7429826, ...   \n",
       "\n",
       "   has_enough_brain has_tumor  slide  \\\n",
       "53             True     False     53   \n",
       "54             True     False     54   \n",
       "55             True     False     55   \n",
       "56             True     False     56   \n",
       "57             True     False     57   \n",
       "\n",
       "                                                   t1  tumor  \n",
       "53  [[0.84137523, 0.84137523, 0.84137523, 0.841375...    0.0  \n",
       "54  [[0.84137523, 0.84137523, 0.84137523, 0.841375...    0.0  \n",
       "55  [[0.84137523, 0.84137523, 0.84137523, 0.841375...    0.0  \n",
       "56  [[0.84137523, 0.84137523, 0.84137523, 0.841375...    0.0  \n",
       "57  [[0.84137523, 0.84137523, 0.84137523, 0.841375...    0.0  "
      ]
     },
     "execution_count": 354,
     "metadata": {},
     "output_type": "execute_result"
    }
   ],
   "source": [
    "base.head()"
   ]
  },
  {
   "cell_type": "code",
   "execution_count": 355,
   "metadata": {
    "collapsed": false
   },
   "outputs": [],
   "source": [
    "import sklearn, sklearn.model_selection\n",
    "#tosplit = base.has_tumor\n",
    "#train, holdout = sklearn.model_selection.train_test_split(base, stratify=tosplit, train_size=0.8)"
   ]
  },
  {
   "cell_type": "code",
   "execution_count": 356,
   "metadata": {
    "collapsed": true
   },
   "outputs": [],
   "source": [
    "train = base"
   ]
  },
  {
   "cell_type": "code",
   "execution_count": 357,
   "metadata": {
    "collapsed": false
   },
   "outputs": [
    {
     "name": "stdout",
     "output_type": "stream",
     "text": [
      "(7666, 7)\n"
     ]
    }
   ],
   "source": [
    "print train.shape\n",
    "# print holdout.shape"
   ]
  },
  {
   "cell_type": "code",
   "execution_count": 358,
   "metadata": {
    "collapsed": false
   },
   "outputs": [
    {
     "data": {
      "text/plain": [
       "Counter({False: 5019, True: 2647})"
      ]
     },
     "execution_count": 358,
     "metadata": {},
     "output_type": "execute_result"
    }
   ],
   "source": [
    "collections.Counter(train.has_tumor)"
   ]
  },
  {
   "cell_type": "code",
   "execution_count": null,
   "metadata": {
    "collapsed": true
   },
   "outputs": [],
   "source": []
  },
  {
   "cell_type": "code",
   "execution_count": 359,
   "metadata": {
    "collapsed": false
   },
   "outputs": [],
   "source": [
    "def sample_ratio(samples, ratio_with_tumor, dataframe):\n",
    "    num_withtumor = int(samples*ratio_with_tumor)\n",
    "    num_notumor   = int(samples*(1.0-ratio_with_tumor))\n",
    "    \n",
    "    with_tumor    = np.random.choice(dataframe[dataframe.has_tumor == True].index, num_withtumor)\n",
    "    without_tumor = np.random.choice(dataframe[dataframe.has_tumor == False].index, num_notumor)\n",
    "    \n",
    "    return dataframe.loc[np.concatenate([with_tumor, without_tumor],axis=0)]"
   ]
  },
  {
   "cell_type": "code",
   "execution_count": null,
   "metadata": {
    "collapsed": true
   },
   "outputs": [],
   "source": []
  },
  {
   "cell_type": "code",
   "execution_count": null,
   "metadata": {
    "collapsed": false
   },
   "outputs": [],
   "source": []
  },
  {
   "cell_type": "code",
   "execution_count": null,
   "metadata": {
    "collapsed": false
   },
   "outputs": [],
   "source": []
  },
  {
   "cell_type": "code",
   "execution_count": 360,
   "metadata": {
    "collapsed": false
   },
   "outputs": [],
   "source": [
    "domaina = sample_ratio(2500, 0.5, train)\n",
    "domainb = sample_ratio(2500, 1.0, train)"
   ]
  },
  {
   "cell_type": "code",
   "execution_count": 361,
   "metadata": {
    "collapsed": false
   },
   "outputs": [
    {
     "data": {
      "text/plain": [
       "Counter({False: 1250, True: 1250})"
      ]
     },
     "execution_count": 361,
     "metadata": {},
     "output_type": "execute_result"
    }
   ],
   "source": [
    "collections.Counter(domaina.has_tumor)"
   ]
  },
  {
   "cell_type": "code",
   "execution_count": 362,
   "metadata": {
    "collapsed": false
   },
   "outputs": [
    {
     "data": {
      "text/plain": [
       "Counter({True: 2500})"
      ]
     },
     "execution_count": 362,
     "metadata": {},
     "output_type": "execute_result"
    }
   ],
   "source": [
    "collections.Counter(domainb.has_tumor)"
   ]
  },
  {
   "cell_type": "code",
   "execution_count": null,
   "metadata": {
    "collapsed": true
   },
   "outputs": [],
   "source": []
  },
  {
   "cell_type": "code",
   "execution_count": 363,
   "metadata": {
    "collapsed": false
   },
   "outputs": [
    {
     "data": {
      "text/html": [
       "<div>\n",
       "<table border=\"1\" class=\"dataframe\">\n",
       "  <thead>\n",
       "    <tr style=\"text-align: right;\">\n",
       "      <th></th>\n",
       "      <th>brain</th>\n",
       "      <th>flair</th>\n",
       "      <th>has_enough_brain</th>\n",
       "      <th>has_tumor</th>\n",
       "      <th>slide</th>\n",
       "      <th>t1</th>\n",
       "      <th>tumor</th>\n",
       "    </tr>\n",
       "  </thead>\n",
       "  <tbody>\n",
       "    <tr>\n",
       "      <th>7325</th>\n",
       "      <td>0.325540</td>\n",
       "      <td>[[0.7645954, 0.7645954, 0.7645954, 0.7645954, ...</td>\n",
       "      <td>True</td>\n",
       "      <td>True</td>\n",
       "      <td>7325</td>\n",
       "      <td>[[0.70435286, 0.70435286, 0.70435286, 0.704352...</td>\n",
       "      <td>0.566186</td>\n",
       "    </tr>\n",
       "    <tr>\n",
       "      <th>14980</th>\n",
       "      <td>0.314108</td>\n",
       "      <td>[[0.7406403, 0.7406403, 0.7406403, 0.7406403, ...</td>\n",
       "      <td>True</td>\n",
       "      <td>True</td>\n",
       "      <td>14980</td>\n",
       "      <td>[[0.799013, 0.799013, 0.799013, 0.799013, 0.79...</td>\n",
       "      <td>0.164785</td>\n",
       "    </tr>\n",
       "    <tr>\n",
       "      <th>17118</th>\n",
       "      <td>0.459706</td>\n",
       "      <td>[[0.74972737, 0.74972737, 0.74972737, 0.749727...</td>\n",
       "      <td>True</td>\n",
       "      <td>True</td>\n",
       "      <td>17118</td>\n",
       "      <td>[[0.7330909, 0.7330909, 0.7330909, 0.7330909, ...</td>\n",
       "      <td>0.438513</td>\n",
       "    </tr>\n",
       "    <tr>\n",
       "      <th>18520</th>\n",
       "      <td>0.428217</td>\n",
       "      <td>[[0.6597966, 0.6597966, 0.6597966, 0.6597966, ...</td>\n",
       "      <td>True</td>\n",
       "      <td>True</td>\n",
       "      <td>18520</td>\n",
       "      <td>[[0.7830874, 0.7830874, 0.7830874, 0.7830874, ...</td>\n",
       "      <td>0.206476</td>\n",
       "    </tr>\n",
       "    <tr>\n",
       "      <th>12460</th>\n",
       "      <td>0.352938</td>\n",
       "      <td>[[0.8024, 0.8024, 0.8024, 0.8024, 0.8024, 0.80...</td>\n",
       "      <td>True</td>\n",
       "      <td>True</td>\n",
       "      <td>12460</td>\n",
       "      <td>[[0.78590727, 0.78590727, 0.78590727, 0.785907...</td>\n",
       "      <td>0.534572</td>\n",
       "    </tr>\n",
       "  </tbody>\n",
       "</table>\n",
       "</div>"
      ],
      "text/plain": [
       "          brain                                              flair  \\\n",
       "7325   0.325540  [[0.7645954, 0.7645954, 0.7645954, 0.7645954, ...   \n",
       "14980  0.314108  [[0.7406403, 0.7406403, 0.7406403, 0.7406403, ...   \n",
       "17118  0.459706  [[0.74972737, 0.74972737, 0.74972737, 0.749727...   \n",
       "18520  0.428217  [[0.6597966, 0.6597966, 0.6597966, 0.6597966, ...   \n",
       "12460  0.352938  [[0.8024, 0.8024, 0.8024, 0.8024, 0.8024, 0.80...   \n",
       "\n",
       "      has_enough_brain has_tumor  slide  \\\n",
       "7325              True      True   7325   \n",
       "14980             True      True  14980   \n",
       "17118             True      True  17118   \n",
       "18520             True      True  18520   \n",
       "12460             True      True  12460   \n",
       "\n",
       "                                                      t1     tumor  \n",
       "7325   [[0.70435286, 0.70435286, 0.70435286, 0.704352...  0.566186  \n",
       "14980  [[0.799013, 0.799013, 0.799013, 0.799013, 0.79...  0.164785  \n",
       "17118  [[0.7330909, 0.7330909, 0.7330909, 0.7330909, ...  0.438513  \n",
       "18520  [[0.7830874, 0.7830874, 0.7830874, 0.7830874, ...  0.206476  \n",
       "12460  [[0.78590727, 0.78590727, 0.78590727, 0.785907...  0.534572  "
      ]
     },
     "execution_count": 363,
     "metadata": {},
     "output_type": "execute_result"
    }
   ],
   "source": [
    "domainb.head()"
   ]
  },
  {
   "cell_type": "code",
   "execution_count": null,
   "metadata": {
    "collapsed": false
   },
   "outputs": [],
   "source": []
  },
  {
   "cell_type": "code",
   "execution_count": null,
   "metadata": {
    "collapsed": false
   },
   "outputs": [],
   "source": []
  },
  {
   "cell_type": "code",
   "execution_count": null,
   "metadata": {
    "collapsed": false
   },
   "outputs": [],
   "source": []
  },
  {
   "cell_type": "code",
   "execution_count": 364,
   "metadata": {
    "collapsed": false
   },
   "outputs": [],
   "source": [
    "import os"
   ]
  },
  {
   "cell_type": "code",
   "execution_count": 366,
   "metadata": {
    "collapsed": false
   },
   "outputs": [
    {
     "name": "stdout",
     "output_type": "stream",
     "text": [
      "0.0\n",
      "Counter({False: 2500})\n",
      "cyclegan/datasets/brats2013-var/brats2013_0.0\n",
      "0.1\n",
      "Counter({False: 2250, True: 250})\n",
      "cyclegan/datasets/brats2013-var/brats2013_0.1\n",
      "0.2\n",
      "Counter({False: 2000, True: 500})\n",
      "cyclegan/datasets/brats2013-var/brats2013_0.2\n",
      "0.3\n",
      "Counter({False: 1750, True: 750})\n",
      "cyclegan/datasets/brats2013-var/brats2013_0.3\n",
      "0.4\n",
      "Counter({False: 1500, True: 1000})\n",
      "cyclegan/datasets/brats2013-var/brats2013_0.4\n",
      "0.5\n",
      "Counter({False: 1250, True: 1250})\n",
      "cyclegan/datasets/brats2013-var/brats2013_0.5\n",
      "0.6\n",
      "Counter({True: 1500, False: 1000})\n",
      "cyclegan/datasets/brats2013-var/brats2013_0.6\n",
      "0.7\n",
      "Counter({True: 1750, False: 750})\n",
      "cyclegan/datasets/brats2013-var/brats2013_0.7\n",
      "0.8\n",
      "Counter({True: 2000, False: 499})\n",
      "cyclegan/datasets/brats2013-var/brats2013_0.8\n",
      "0.9\n",
      "Counter({True: 2250, False: 249})\n",
      "cyclegan/datasets/brats2013-var/brats2013_0.9\n",
      "1.0\n",
      "Counter({True: 2500})\n",
      "cyclegan/datasets/brats2013-var/brats2013_1.0\n"
     ]
    }
   ],
   "source": [
    "path = \"cyclegan/datasets/brats2013-var/\"\n",
    "for i in [0.0,0.1,0.2,0.3,0.4,0.5,0.6,0.7,0.8,0.9,1.0]:\n",
    "    print i\n",
    "    domainb = sample_ratio(2500, i, train)\n",
    "    print collections.Counter(domainb.has_tumor)\n",
    "    thispath = path + \"brats2013_\" + str(i)\n",
    "    if not os.path.exists(thispath):\n",
    "        os.makedirs(thispath + \"/trainA\")\n",
    "        os.makedirs(thispath + \"/testA\")\n",
    "        os.makedirs(thispath + \"/trainB\")\n",
    "        os.makedirs(thispath + \"/testB\")\n",
    "    print thispath\n",
    "        \n",
    "    import skimage\n",
    "    from skimage.io import imread, imsave\n",
    "\n",
    "    for i, row in domaina.iterrows():\n",
    "        img = row.flair\n",
    "        name = str(row.slide) + \"-\" + str(row.has_tumor)\n",
    "        imsave(thispath + \"/trainA/\" + name + \".png\", imgg.astype(np.float32))\n",
    "        imsave(thispath + \"/testA/\" + name + \".png\", imgg.astype(np.float32))\n",
    "\n",
    "    for i, row in domainb.iterrows():\n",
    "        img = row.t1\n",
    "        name = str(row.slide) + \"-\" + str(row.has_tumor)\n",
    "        imsave(thispath + \"/trainB/\" + name + \".png\", imgg.astype(np.float32))\n",
    "        imsave(thispath + \"/testB/\" + name + \".png\", imgg.astype(np.float32))\n",
    "    "
   ]
  },
  {
   "cell_type": "code",
   "execution_count": 75,
   "metadata": {
    "collapsed": false
   },
   "outputs": [],
   "source": []
  },
  {
   "cell_type": "code",
   "execution_count": null,
   "metadata": {
    "collapsed": false
   },
   "outputs": [],
   "source": []
  },
  {
   "cell_type": "code",
   "execution_count": null,
   "metadata": {
    "collapsed": false
   },
   "outputs": [],
   "source": []
  },
  {
   "cell_type": "code",
   "execution_count": null,
   "metadata": {
    "collapsed": false
   },
   "outputs": [],
   "source": [
    "thispath = \"cyclegan/datasets/brats2013-var/holdout\"\n",
    "if not os.path.exists(thispath):\n",
    "        os.makedirs(thispath + \"/trainA\")\n",
    "        os.makedirs(thispath + \"/trainB\")\n",
    "print thispath\n",
    "\n",
    "import skimage\n",
    "from skimage.io import imread, imsave\n",
    "\n",
    "#pulled from valid set\n",
    "holdout = sample_ratio(2500, 0.5, train)\n",
    "\n",
    "for i, row in holdout.iterrows():\n",
    "    img = row.flair\n",
    "    name = str(row[\"sample\"]) + \"-\" + str(row.slide) + \"-\" + str(row.has_tumor) + \"-\" + str(row.has_necrosis)\n",
    "    imsave(thispath + \"/trainA/\" + name + \".png\", imgg.astype(np.float32))\n",
    "    \n",
    "for i, row in holdout.iterrows():\n",
    "    img = row.t1\n",
    "    name = str(row[\"sample\"]) + \"-\" + str(row.slide) + \"-\" + str(row.has_tumor) + \"-\" + str(row.has_necrosis)\n",
    "    imsave(thispath + \"/trainB/\" + name + \".png\", imgg.astype(np.float32))"
   ]
  },
  {
   "cell_type": "code",
   "execution_count": null,
   "metadata": {
    "collapsed": false
   },
   "outputs": [],
   "source": []
  },
  {
   "cell_type": "code",
   "execution_count": null,
   "metadata": {
    "collapsed": false
   },
   "outputs": [],
   "source": []
  },
  {
   "cell_type": "code",
   "execution_count": null,
   "metadata": {
    "collapsed": true
   },
   "outputs": [],
   "source": []
  },
  {
   "cell_type": "code",
   "execution_count": 342,
   "metadata": {
    "collapsed": false
   },
   "outputs": [],
   "source": [
    "imsave(\"/Tmp/test.png\", flair[100].astype(np.float32))"
   ]
  },
  {
   "cell_type": "code",
   "execution_count": null,
   "metadata": {
    "collapsed": true
   },
   "outputs": [],
   "source": []
  },
  {
   "cell_type": "code",
   "execution_count": 343,
   "metadata": {
    "collapsed": false
   },
   "outputs": [],
   "source": [
    "A_img = imread(\"/Tmp/test.png\")"
   ]
  },
  {
   "cell_type": "code",
   "execution_count": 344,
   "metadata": {
    "collapsed": false
   },
   "outputs": [
    {
     "data": {
      "text/plain": [
       "<matplotlib.image.AxesImage at 0x7f65f2a5efd0>"
      ]
     },
     "execution_count": 344,
     "metadata": {},
     "output_type": "execute_result"
    },
    {
     "data": {
      "image/png": "[encoded data removed]",
      "text/plain": [
       "<matplotlib.figure.Figure at 0x7f68a91d7fd0>"
      ]
     },
     "metadata": {},
     "output_type": "display_data"
    }
   ],
   "source": [
    "plt.imshow(A_img)"
   ]
  },
  {
   "cell_type": "code",
   "execution_count": 322,
   "metadata": {
    "collapsed": false
   },
   "outputs": [
    {
     "data": {
      "text/plain": [
       "65535"
      ]
     },
     "execution_count": 322,
     "metadata": {},
     "output_type": "execute_result"
    }
   ],
   "source": [
    "A_img.max()"
   ]
  },
  {
   "cell_type": "code",
   "execution_count": null,
   "metadata": {
    "collapsed": true
   },
   "outputs": [],
   "source": []
  },
  {
   "cell_type": "code",
   "execution_count": null,
   "metadata": {
    "collapsed": true
   },
   "outputs": [],
   "source": []
  },
  {
   "cell_type": "code",
   "execution_count": null,
   "metadata": {
    "collapsed": true
   },
   "outputs": [],
   "source": []
  },
  {
   "cell_type": "code",
   "execution_count": null,
   "metadata": {
    "collapsed": true
   },
   "outputs": [],
   "source": []
  }
 ],
 "metadata": {
  "kernelspec": {
   "display_name": "Python 2",
   "language": "python",
   "name": "python2"
  },
  "language_info": {
   "codemirror_mode": {
    "name": "ipython",
    "version": 2
   },
   "file_extension": ".py",
   "mimetype": "text/x-python",
   "name": "python",
   "nbconvert_exporter": "python",
   "pygments_lexer": "ipython2",
   "version": "2.7.13"
  }
 },
 "nbformat": 4,
 "nbformat_minor": 2
}
