{
 "cells": [
  {
   "cell_type": "code",
   "execution_count": 1,
   "metadata": {
    "collapsed": false
   },
   "outputs": [
    {
     "name": "stdout",
     "output_type": "stream",
     "text": [
      "------------ Options -------------\n",
      "batchSize: 1\n",
      "beta1: 0.5\n",
      "checkpoints_dir: ./checkpoints\n",
      "continue_train: False\n",
      "dataroot: ./datasets/brats2013\n",
      "dataset_mode: unaligned\n",
      "display_freq: 100\n",
      "display_id: 1\n",
      "display_port: 8097\n",
      "display_single_pane_ncols: 0\n",
      "display_winsize: 256\n",
      "epoch_count: 1\n",
      "fineSize: 256\n",
      "gpu_ids: [0]\n",
      "identity: 0.5\n",
      "init_type: normal\n",
      "input_nc: 3\n",
      "isTrain: True\n",
      "lambda_A: 10.0\n",
      "lambda_B: 10.0\n",
      "loadSize: 286\n",
      "lr: 0.0002\n",
      "lr_decay_iters: 50\n",
      "lr_policy: lambda\n",
      "max_dataset_size: inf\n",
      "model: cycle_gan\n",
      "nThreads: 2\n",
      "n_layers_D: 3\n",
      "name: brats2013_cyclegan\n",
      "ndf: 64\n",
      "ngf: 64\n",
      "niter: 100\n",
      "niter_decay: 100\n",
      "no_dropout: False\n",
      "no_flip: False\n",
      "no_html: False\n",
      "no_lsgan: False\n",
      "norm: instance\n",
      "output_nc: 3\n",
      "phase: train\n",
      "pool_size: 50\n",
      "print_freq: 100\n",
      "resize_or_crop: resize_and_crop\n",
      "save_epoch_freq: 5\n",
      "save_latest_freq: 5000\n",
      "serial_batches: False\n",
      "update_html_freq: 1000\n",
      "which_direction: AtoB\n",
      "which_epoch: latest\n",
      "which_model_netD: basic\n",
      "which_model_netG: resnet_9blocks\n",
      "-------------- End ----------------\n"
     ]
    }
   ],
   "source": [
    "import sys\n",
    "\n",
    "sys.argv = [\"jupyter\",\"--dataroot\", \"./datasets/brats2013\", \"--model\", \"cycle_gan\"]\n",
    "\n",
    "sys.argv += [\"--name\", \"brats2013_cyclegan\"]\n",
    "sys.argv += [\"--checkpoints_dir\", \"./checkpoints\"]\n",
    "#sys.argv += [\"--continue_train\"]\n",
    "\n",
    "import time\n",
    "from options.train_options import TrainOptions\n",
    "opt = TrainOptions().parse()  # set CUDA_VISIBLE_DEVICES before import torch\n",
    "\n",
    "from data.data_loader import CreateDataLoader\n",
    "from models.models import create_model\n"
   ]
  },
  {
   "cell_type": "code",
   "execution_count": 2,
   "metadata": {
    "collapsed": false
   },
   "outputs": [
    {
     "name": "stdout",
     "output_type": "stream",
     "text": [
      "CustomDatasetDataLoader\n",
      "dataset [UnalignedDataset] was created\n",
      "#training images = 1553\n"
     ]
    }
   ],
   "source": [
    "data_loader = CreateDataLoader(opt)\n",
    "dataset = data_loader.load_data()\n",
    "dataset_size = len(data_loader)\n",
    "print('#training images = %d' % dataset_size)\n"
   ]
  },
  {
   "cell_type": "code",
   "execution_count": 3,
   "metadata": {
    "collapsed": false
   },
   "outputs": [
    {
     "name": "stdout",
     "output_type": "stream",
     "text": [
      "cycle_gan\n",
      "initialization method [normal]\n",
      "initialization method [normal]\n",
      "initialization method [normal]\n",
      "initialization method [normal]\n",
      "---------- Networks initialized -------------\n",
      "ResnetGenerator(\n",
      "  (model): Sequential(\n",
      "    (0): ReflectionPad2d((3, 3, 3, 3))\n",
      "    (1): Conv2d (3, 64, kernel_size=(7, 7), stride=(1, 1))\n",
      "    (2): InstanceNorm2d(64, eps=1e-05, momentum=0.1, affine=False)\n",
      "    (3): ReLU(inplace)\n",
      "    (4): Conv2d (64, 128, kernel_size=(3, 3), stride=(2, 2), padding=(1, 1))\n",
      "    (5): InstanceNorm2d(128, eps=1e-05, momentum=0.1, affine=False)\n",
      "    (6): ReLU(inplace)\n",
      "    (7): Conv2d (128, 256, kernel_size=(3, 3), stride=(2, 2), padding=(1, 1))\n",
      "    (8): InstanceNorm2d(256, eps=1e-05, momentum=0.1, affine=False)\n",
      "    (9): ReLU(inplace)\n",
      "    (10): ResnetBlock(\n",
      "      (conv_block): Sequential(\n",
      "        (0): ReflectionPad2d((1, 1, 1, 1))\n",
      "        (1): Conv2d (256, 256, kernel_size=(3, 3), stride=(1, 1))\n",
      "        (2): InstanceNorm2d(256, eps=1e-05, momentum=0.1, affine=False)\n",
      "        (3): ReLU(inplace)\n",
      "        (4): Dropout(p=0.5)\n",
      "        (5): ReflectionPad2d((1, 1, 1, 1))\n",
      "        (6): Conv2d (256, 256, kernel_size=(3, 3), stride=(1, 1))\n",
      "        (7): InstanceNorm2d(256, eps=1e-05, momentum=0.1, affine=False)\n",
      "      )\n",
      "    )\n",
      "    (11): ResnetBlock(\n",
      "      (conv_block): Sequential(\n",
      "        (0): ReflectionPad2d((1, 1, 1, 1))\n",
      "        (1): Conv2d (256, 256, kernel_size=(3, 3), stride=(1, 1))\n",
      "        (2): InstanceNorm2d(256, eps=1e-05, momentum=0.1, affine=False)\n",
      "        (3): ReLU(inplace)\n",
      "        (4): Dropout(p=0.5)\n",
      "        (5): ReflectionPad2d((1, 1, 1, 1))\n",
      "        (6): Conv2d (256, 256, kernel_size=(3, 3), stride=(1, 1))\n",
      "        (7): InstanceNorm2d(256, eps=1e-05, momentum=0.1, affine=False)\n",
      "      )\n",
      "    )\n",
      "    (12): ResnetBlock(\n",
      "      (conv_block): Sequential(\n",
      "        (0): ReflectionPad2d((1, 1, 1, 1))\n",
      "        (1): Conv2d (256, 256, kernel_size=(3, 3), stride=(1, 1))\n",
      "        (2): InstanceNorm2d(256, eps=1e-05, momentum=0.1, affine=False)\n",
      "        (3): ReLU(inplace)\n",
      "        (4): Dropout(p=0.5)\n",
      "        (5): ReflectionPad2d((1, 1, 1, 1))\n",
      "        (6): Conv2d (256, 256, kernel_size=(3, 3), stride=(1, 1))\n",
      "        (7): InstanceNorm2d(256, eps=1e-05, momentum=0.1, affine=False)\n",
      "      )\n",
      "    )\n",
      "    (13): ResnetBlock(\n",
      "      (conv_block): Sequential(\n",
      "        (0): ReflectionPad2d((1, 1, 1, 1))\n",
      "        (1): Conv2d (256, 256, kernel_size=(3, 3), stride=(1, 1))\n",
      "        (2): InstanceNorm2d(256, eps=1e-05, momentum=0.1, affine=False)\n",
      "        (3): ReLU(inplace)\n",
      "        (4): Dropout(p=0.5)\n",
      "        (5): ReflectionPad2d((1, 1, 1, 1))\n",
      "        (6): Conv2d (256, 256, kernel_size=(3, 3), stride=(1, 1))\n",
      "        (7): InstanceNorm2d(256, eps=1e-05, momentum=0.1, affine=False)\n",
      "      )\n",
      "    )\n",
      "    (14): ResnetBlock(\n",
      "      (conv_block): Sequential(\n",
      "        (0): ReflectionPad2d((1, 1, 1, 1))\n",
      "        (1): Conv2d (256, 256, kernel_size=(3, 3), stride=(1, 1))\n",
      "        (2): InstanceNorm2d(256, eps=1e-05, momentum=0.1, affine=False)\n",
      "        (3): ReLU(inplace)\n",
      "        (4): Dropout(p=0.5)\n",
      "        (5): ReflectionPad2d((1, 1, 1, 1))\n",
      "        (6): Conv2d (256, 256, kernel_size=(3, 3), stride=(1, 1))\n",
      "        (7): InstanceNorm2d(256, eps=1e-05, momentum=0.1, affine=False)\n",
      "      )\n",
      "    )\n",
      "    (15): ResnetBlock(\n",
      "      (conv_block): Sequential(\n",
      "        (0): ReflectionPad2d((1, 1, 1, 1))\n",
      "        (1): Conv2d (256, 256, kernel_size=(3, 3), stride=(1, 1))\n",
      "        (2): InstanceNorm2d(256, eps=1e-05, momentum=0.1, affine=False)\n",
      "        (3): ReLU(inplace)\n",
      "        (4): Dropout(p=0.5)\n",
      "        (5): ReflectionPad2d((1, 1, 1, 1))\n",
      "        (6): Conv2d (256, 256, kernel_size=(3, 3), stride=(1, 1))\n",
      "        (7): InstanceNorm2d(256, eps=1e-05, momentum=0.1, affine=False)\n",
      "      )\n",
      "    )\n",
      "    (16): ResnetBlock(\n",
      "      (conv_block): Sequential(\n",
      "        (0): ReflectionPad2d((1, 1, 1, 1))\n",
      "        (1): Conv2d (256, 256, kernel_size=(3, 3), stride=(1, 1))\n",
      "        (2): InstanceNorm2d(256, eps=1e-05, momentum=0.1, affine=False)\n",
      "        (3): ReLU(inplace)\n",
      "        (4): Dropout(p=0.5)\n",
      "        (5): ReflectionPad2d((1, 1, 1, 1))\n",
      "        (6): Conv2d (256, 256, kernel_size=(3, 3), stride=(1, 1))\n",
      "        (7): InstanceNorm2d(256, eps=1e-05, momentum=0.1, affine=False)\n",
      "      )\n",
      "    )\n",
      "    (17): ResnetBlock(\n",
      "      (conv_block): Sequential(\n",
      "        (0): ReflectionPad2d((1, 1, 1, 1))\n",
      "        (1): Conv2d (256, 256, kernel_size=(3, 3), stride=(1, 1))\n",
      "        (2): InstanceNorm2d(256, eps=1e-05, momentum=0.1, affine=False)\n",
      "        (3): ReLU(inplace)\n",
      "        (4): Dropout(p=0.5)\n",
      "        (5): ReflectionPad2d((1, 1, 1, 1))\n",
      "        (6): Conv2d (256, 256, kernel_size=(3, 3), stride=(1, 1))\n",
      "        (7): InstanceNorm2d(256, eps=1e-05, momentum=0.1, affine=False)\n",
      "      )\n",
      "    )\n",
      "    (18): ResnetBlock(\n",
      "      (conv_block): Sequential(\n",
      "        (0): ReflectionPad2d((1, 1, 1, 1))\n",
      "        (1): Conv2d (256, 256, kernel_size=(3, 3), stride=(1, 1))\n",
      "        (2): InstanceNorm2d(256, eps=1e-05, momentum=0.1, affine=False)\n",
      "        (3): ReLU(inplace)\n",
      "        (4): Dropout(p=0.5)\n",
      "        (5): ReflectionPad2d((1, 1, 1, 1))\n",
      "        (6): Conv2d (256, 256, kernel_size=(3, 3), stride=(1, 1))\n",
      "        (7): InstanceNorm2d(256, eps=1e-05, momentum=0.1, affine=False)\n",
      "      )\n",
      "    )\n",
      "    (19): ConvTranspose2d (256, 128, kernel_size=(3, 3), stride=(2, 2), padding=(1, 1), output_padding=(1, 1))\n",
      "    (20): InstanceNorm2d(128, eps=1e-05, momentum=0.1, affine=False)\n",
      "    (21): ReLU(inplace)\n",
      "    (22): ConvTranspose2d (128, 64, kernel_size=(3, 3), stride=(2, 2), padding=(1, 1), output_padding=(1, 1))\n",
      "    (23): InstanceNorm2d(64, eps=1e-05, momentum=0.1, affine=False)\n",
      "    (24): ReLU(inplace)\n",
      "    (25): ReflectionPad2d((3, 3, 3, 3))\n",
      "    (26): Conv2d (64, 3, kernel_size=(7, 7), stride=(1, 1))\n",
      "    (27): Tanh()\n",
      "  )\n",
      ")\n",
      "Total number of parameters: 11378179\n",
      "ResnetGenerator(\n",
      "  (model): Sequential(\n",
      "    (0): ReflectionPad2d((3, 3, 3, 3))\n",
      "    (1): Conv2d (3, 64, kernel_size=(7, 7), stride=(1, 1))\n",
      "    (2): InstanceNorm2d(64, eps=1e-05, momentum=0.1, affine=False)\n",
      "    (3): ReLU(inplace)\n",
      "    (4): Conv2d (64, 128, kernel_size=(3, 3), stride=(2, 2), padding=(1, 1))\n",
      "    (5): InstanceNorm2d(128, eps=1e-05, momentum=0.1, affine=False)\n",
      "    (6): ReLU(inplace)\n",
      "    (7): Conv2d (128, 256, kernel_size=(3, 3), stride=(2, 2), padding=(1, 1))\n",
      "    (8): InstanceNorm2d(256, eps=1e-05, momentum=0.1, affine=False)\n",
      "    (9): ReLU(inplace)\n",
      "    (10): ResnetBlock(\n",
      "      (conv_block): Sequential(\n",
      "        (0): ReflectionPad2d((1, 1, 1, 1))\n",
      "        (1): Conv2d (256, 256, kernel_size=(3, 3), stride=(1, 1))\n",
      "        (2): InstanceNorm2d(256, eps=1e-05, momentum=0.1, affine=False)\n",
      "        (3): ReLU(inplace)\n",
      "        (4): Dropout(p=0.5)\n",
      "        (5): ReflectionPad2d((1, 1, 1, 1))\n",
      "        (6): Conv2d (256, 256, kernel_size=(3, 3), stride=(1, 1))\n",
      "        (7): InstanceNorm2d(256, eps=1e-05, momentum=0.1, affine=False)\n",
      "      )\n",
      "    )\n",
      "    (11): ResnetBlock(\n",
      "      (conv_block): Sequential(\n",
      "        (0): ReflectionPad2d((1, 1, 1, 1))\n",
      "        (1): Conv2d (256, 256, kernel_size=(3, 3), stride=(1, 1))\n",
      "        (2): InstanceNorm2d(256, eps=1e-05, momentum=0.1, affine=False)\n",
      "        (3): ReLU(inplace)\n",
      "        (4): Dropout(p=0.5)\n",
      "        (5): ReflectionPad2d((1, 1, 1, 1))\n",
      "        (6): Conv2d (256, 256, kernel_size=(3, 3), stride=(1, 1))\n",
      "        (7): InstanceNorm2d(256, eps=1e-05, momentum=0.1, affine=False)\n",
      "      )\n",
      "    )\n",
      "    (12): ResnetBlock(\n",
      "      (conv_block): Sequential(\n",
      "        (0): ReflectionPad2d((1, 1, 1, 1))\n",
      "        (1): Conv2d (256, 256, kernel_size=(3, 3), stride=(1, 1))\n",
      "        (2): InstanceNorm2d(256, eps=1e-05, momentum=0.1, affine=False)\n",
      "        (3): ReLU(inplace)\n",
      "        (4): Dropout(p=0.5)\n",
      "        (5): ReflectionPad2d((1, 1, 1, 1))\n",
      "        (6): Conv2d (256, 256, kernel_size=(3, 3), stride=(1, 1))\n",
      "        (7): InstanceNorm2d(256, eps=1e-05, momentum=0.1, affine=False)\n",
      "      )\n",
      "    )\n",
      "    (13): ResnetBlock(\n",
      "      (conv_block): Sequential(\n",
      "        (0): ReflectionPad2d((1, 1, 1, 1))\n",
      "        (1): Conv2d (256, 256, kernel_size=(3, 3), stride=(1, 1))\n",
      "        (2): InstanceNorm2d(256, eps=1e-05, momentum=0.1, affine=False)\n",
      "        (3): ReLU(inplace)\n",
      "        (4): Dropout(p=0.5)\n",
      "        (5): ReflectionPad2d((1, 1, 1, 1))\n",
      "        (6): Conv2d (256, 256, kernel_size=(3, 3), stride=(1, 1))\n",
      "        (7): InstanceNorm2d(256, eps=1e-05, momentum=0.1, affine=False)\n",
      "      )\n",
      "    )\n",
      "    (14): ResnetBlock(\n",
      "      (conv_block): Sequential(\n",
      "        (0): ReflectionPad2d((1, 1, 1, 1))\n",
      "        (1): Conv2d (256, 256, kernel_size=(3, 3), stride=(1, 1))\n",
      "        (2): InstanceNorm2d(256, eps=1e-05, momentum=0.1, affine=False)\n",
      "        (3): ReLU(inplace)\n",
      "        (4): Dropout(p=0.5)\n",
      "        (5): ReflectionPad2d((1, 1, 1, 1))\n",
      "        (6): Conv2d (256, 256, kernel_size=(3, 3), stride=(1, 1))\n",
      "        (7): InstanceNorm2d(256, eps=1e-05, momentum=0.1, affine=False)\n",
      "      )\n",
      "    )\n",
      "    (15): ResnetBlock(\n",
      "      (conv_block): Sequential(\n",
      "        (0): ReflectionPad2d((1, 1, 1, 1))\n",
      "        (1): Conv2d (256, 256, kernel_size=(3, 3), stride=(1, 1))\n",
      "        (2): InstanceNorm2d(256, eps=1e-05, momentum=0.1, affine=False)\n",
      "        (3): ReLU(inplace)\n",
      "        (4): Dropout(p=0.5)\n",
      "        (5): ReflectionPad2d((1, 1, 1, 1))\n",
      "        (6): Conv2d (256, 256, kernel_size=(3, 3), stride=(1, 1))\n",
      "        (7): InstanceNorm2d(256, eps=1e-05, momentum=0.1, affine=False)\n",
      "      )\n",
      "    )\n",
      "    (16): ResnetBlock(\n",
      "      (conv_block): Sequential(\n",
      "        (0): ReflectionPad2d((1, 1, 1, 1))\n",
      "        (1): Conv2d (256, 256, kernel_size=(3, 3), stride=(1, 1))\n",
      "        (2): InstanceNorm2d(256, eps=1e-05, momentum=0.1, affine=False)\n",
      "        (3): ReLU(inplace)\n",
      "        (4): Dropout(p=0.5)\n",
      "        (5): ReflectionPad2d((1, 1, 1, 1))\n",
      "        (6): Conv2d (256, 256, kernel_size=(3, 3), stride=(1, 1))\n",
      "        (7): InstanceNorm2d(256, eps=1e-05, momentum=0.1, affine=False)\n",
      "      )\n",
      "    )\n",
      "    (17): ResnetBlock(\n",
      "      (conv_block): Sequential(\n",
      "        (0): ReflectionPad2d((1, 1, 1, 1))\n",
      "        (1): Conv2d (256, 256, kernel_size=(3, 3), stride=(1, 1))\n",
      "        (2): InstanceNorm2d(256, eps=1e-05, momentum=0.1, affine=False)\n",
      "        (3): ReLU(inplace)\n",
      "        (4): Dropout(p=0.5)\n",
      "        (5): ReflectionPad2d((1, 1, 1, 1))\n",
      "        (6): Conv2d (256, 256, kernel_size=(3, 3), stride=(1, 1))\n",
      "        (7): InstanceNorm2d(256, eps=1e-05, momentum=0.1, affine=False)\n",
      "      )\n",
      "    )\n",
      "    (18): ResnetBlock(\n",
      "      (conv_block): Sequential(\n",
      "        (0): ReflectionPad2d((1, 1, 1, 1))\n",
      "        (1): Conv2d (256, 256, kernel_size=(3, 3), stride=(1, 1))\n",
      "        (2): InstanceNorm2d(256, eps=1e-05, momentum=0.1, affine=False)\n",
      "        (3): ReLU(inplace)\n",
      "        (4): Dropout(p=0.5)\n",
      "        (5): ReflectionPad2d((1, 1, 1, 1))\n",
      "        (6): Conv2d (256, 256, kernel_size=(3, 3), stride=(1, 1))\n",
      "        (7): InstanceNorm2d(256, eps=1e-05, momentum=0.1, affine=False)\n",
      "      )\n",
      "    )\n",
      "    (19): ConvTranspose2d (256, 128, kernel_size=(3, 3), stride=(2, 2), padding=(1, 1), output_padding=(1, 1))\n",
      "    (20): InstanceNorm2d(128, eps=1e-05, momentum=0.1, affine=False)\n",
      "    (21): ReLU(inplace)\n",
      "    (22): ConvTranspose2d (128, 64, kernel_size=(3, 3), stride=(2, 2), padding=(1, 1), output_padding=(1, 1))\n",
      "    (23): InstanceNorm2d(64, eps=1e-05, momentum=0.1, affine=False)\n",
      "    (24): ReLU(inplace)\n",
      "    (25): ReflectionPad2d((3, 3, 3, 3))\n",
      "    (26): Conv2d (64, 3, kernel_size=(7, 7), stride=(1, 1))\n",
      "    (27): Tanh()\n",
      "  )\n",
      ")\n",
      "Total number of parameters: 11378179\n",
      "NLayerDiscriminator(\n",
      "  (model): Sequential(\n",
      "    (0): Conv2d (3, 64, kernel_size=(4, 4), stride=(2, 2), padding=(1, 1))\n",
      "    (1): LeakyReLU(0.2, inplace)\n",
      "    (2): Conv2d (64, 128, kernel_size=(4, 4), stride=(2, 2), padding=(1, 1))\n",
      "    (3): InstanceNorm2d(128, eps=1e-05, momentum=0.1, affine=False)\n",
      "    (4): LeakyReLU(0.2, inplace)\n",
      "    (5): Conv2d (128, 256, kernel_size=(4, 4), stride=(2, 2), padding=(1, 1))\n",
      "    (6): InstanceNorm2d(256, eps=1e-05, momentum=0.1, affine=False)\n",
      "    (7): LeakyReLU(0.2, inplace)\n",
      "    (8): Conv2d (256, 512, kernel_size=(4, 4), stride=(1, 1), padding=(1, 1))\n",
      "    (9): InstanceNorm2d(512, eps=1e-05, momentum=0.1, affine=False)\n",
      "    (10): LeakyReLU(0.2, inplace)\n",
      "    (11): Conv2d (512, 1, kernel_size=(4, 4), stride=(1, 1), padding=(1, 1))\n",
      "  )\n",
      ")\n",
      "Total number of parameters: 2764737\n",
      "NLayerDiscriminator(\n",
      "  (model): Sequential(\n",
      "    (0): Conv2d (3, 64, kernel_size=(4, 4), stride=(2, 2), padding=(1, 1))\n",
      "    (1): LeakyReLU(0.2, inplace)\n",
      "    (2): Conv2d (64, 128, kernel_size=(4, 4), stride=(2, 2), padding=(1, 1))\n",
      "    (3): InstanceNorm2d(128, eps=1e-05, momentum=0.1, affine=False)\n",
      "    (4): LeakyReLU(0.2, inplace)\n",
      "    (5): Conv2d (128, 256, kernel_size=(4, 4), stride=(2, 2), padding=(1, 1))\n",
      "    (6): InstanceNorm2d(256, eps=1e-05, momentum=0.1, affine=False)\n",
      "    (7): LeakyReLU(0.2, inplace)\n",
      "    (8): Conv2d (256, 512, kernel_size=(4, 4), stride=(1, 1), padding=(1, 1))\n",
      "    (9): InstanceNorm2d(512, eps=1e-05, momentum=0.1, affine=False)\n",
      "    (10): LeakyReLU(0.2, inplace)\n",
      "    (11): Conv2d (512, 1, kernel_size=(4, 4), stride=(1, 1), padding=(1, 1))\n",
      "  )\n",
      ")\n",
      "Total number of parameters: 2764737\n",
      "-----------------------------------------------\n",
      "model [CycleGANModel] was created\n"
     ]
    }
   ],
   "source": [
    "model = create_model(opt)\n",
    "total_steps = 0"
   ]
  },
  {
   "cell_type": "code",
   "execution_count": 6,
   "metadata": {
    "collapsed": false
   },
   "outputs": [
    {
     "name": "stdout",
     "output_type": "stream",
     "text": [
      "a\n"
     ]
    }
   ],
   "source": [
    "import matplotlib.pyplot as plt\n",
    "import numpy as np\n",
    "%matplotlib inline\n",
    "print \"a\""
   ]
  },
  {
   "cell_type": "code",
   "execution_count": null,
   "metadata": {
    "collapsed": false
   },
   "outputs": [
    {
     "name": "stdout",
     "output_type": "stream",
     "text": [
      "1 0.064391500322 OrderedDict([('D_A', 0.2738652229309082), ('G_A', 0.2867620289325714), ('Cyc_A', 0.3879319429397583), ('D_B', 0.24842680990695953), ('G_B', 0.24788369238376617), ('Cyc_B', 0.18774478137493134), ('idt_A', 0.08750229328870773), ('idt_B', 0.18550924956798553)])\n",
      "1 0.128783000644 OrderedDict([('D_A', 0.7925195097923279), ('G_A', 0.3405517637729645), ('Cyc_A', 0.6113247871398926), ('D_B', 0.2655959725379944), ('G_B', 0.2542491853237152), ('Cyc_B', 0.14674261212348938), ('idt_A', 0.06991501897573471), ('idt_B', 0.2844850718975067)])\n",
      "1 0.193174500966 OrderedDict([('D_A', 0.2544686496257782), ('G_A', 0.27798348665237427), ('Cyc_A', 0.2763426601886749), ('D_B', 0.24494719505310059), ('G_B', 0.28945013880729675), ('Cyc_B', 0.14747633039951324), ('idt_A', 0.06342260539531708), ('idt_B', 0.1328544020652771)])\n",
      "1 0.257566001288 OrderedDict([('D_A', 0.33609476685523987), ('G_A', 0.4258975088596344), ('Cyc_A', 0.2334875464439392), ('D_B', 0.24823397397994995), ('G_B', 0.2787916362285614), ('Cyc_B', 0.16674773395061493), ('idt_A', 0.07937491685152054), ('idt_B', 0.11124490946531296)])\n"
     ]
    }
   ],
   "source": [
    "for epoch in range(1, opt.niter + opt.niter_decay + 1):\n",
    "    epoch_start_time = time.time()\n",
    "    for i, data in enumerate(dataset):\n",
    "        iter_start_time = time.time()\n",
    "        total_steps += opt.batchSize\n",
    "        epoch_iter = total_steps - dataset_size * (epoch - 1)\n",
    "        model.set_input(data)\n",
    "        model.optimize_parameters()\n",
    "\n",
    "        if total_steps % opt.print_freq == 0:\n",
    "            errors = model.get_current_errors()\n",
    "            t = (time.time() - iter_start_time) / opt.batchSize\n",
    "            print epoch, float(epoch_iter)/dataset_size, errors\n",
    "\n",
    "        if total_steps % opt.save_latest_freq == 0:\n",
    "            print('saving the latest model (epoch %d, total_steps %d)' % (epoch, total_steps))\n",
    "            model.save('latest')\n",
    "        plt.imshow(np.concatenate([model.get_current_visuals()['real_A'],model.get_current_visuals()['fake_B']],axis=1))\n",
    "\n",
    "    if epoch % opt.save_epoch_freq == 0:\n",
    "        print('saving the model at the end of epoch %d, iters %d' % (epoch, total_steps))\n",
    "        model.save('latest')\n",
    "        model.save(epoch)\n",
    "\n",
    "    print('End of epoch %d / %d \\t Time Taken: %d sec' %\n",
    "          (epoch, opt.niter + opt.niter_decay, time.time() - epoch_start_time))\n",
    "\n",
    "    if epoch > opt.niter:\n",
    "        model.update_learning_rate()\n"
   ]
  },
  {
   "cell_type": "code",
   "execution_count": 6,
   "metadata": {
    "collapsed": true
   },
   "outputs": [],
   "source": [
    "import matplotlib.pyplot as plt\n",
    "import numpy as np\n",
    "%matplotlib inline"
   ]
  },
  {
   "cell_type": "code",
   "execution_count": 7,
   "metadata": {
    "collapsed": false
   },
   "outputs": [
    {
     "data": {
      "text/plain": [
       "<matplotlib.image.AxesImage at 0x7f6b0004c350>"
      ]
     },
     "execution_count": 7,
     "metadata": {},
     "output_type": "execute_result"
    },
    {
     "data": {
      "image/png": "[encoded data removed]",
      "text/plain": [
       "<matplotlib.figure.Figure at 0x7f6b000684d0>"
      ]
     },
     "metadata": {},
     "output_type": "display_data"
    }
   ],
   "source": [
    "plt.imshow(np.concatenate([model.get_current_visuals()['real_A'],model.get_current_visuals()['fake_B']],axis=1))"
   ]
  },
  {
   "cell_type": "code",
   "execution_count": 8,
   "metadata": {
    "collapsed": false
   },
   "outputs": [
    {
     "data": {
      "text/plain": [
       "<matplotlib.image.AxesImage at 0x7f6af9969210>"
      ]
     },
     "execution_count": 8,
     "metadata": {},
     "output_type": "execute_result"
    },
    {
     "data": {
      "image/png": "[encoded data removed]",
      "text/plain": [
       "<matplotlib.figure.Figure at 0x7f6b56a58f90>"
      ]
     },
     "metadata": {},
     "output_type": "display_data"
    }
   ],
   "source": [
    "plt.imshow(np.concatenate([model.get_current_visuals()['real_B'],model.get_current_visuals()['fake_A']],axis=1))"
   ]
  },
  {
   "cell_type": "code",
   "execution_count": null,
   "metadata": {
    "collapsed": true
   },
   "outputs": [],
   "source": []
  },
  {
   "cell_type": "code",
   "execution_count": null,
   "metadata": {
    "collapsed": true
   },
   "outputs": [],
   "source": []
  },
  {
   "cell_type": "code",
   "execution_count": null,
   "metadata": {
    "collapsed": true
   },
   "outputs": [],
   "source": []
  },
  {
   "cell_type": "code",
   "execution_count": null,
   "metadata": {
    "collapsed": true
   },
   "outputs": [],
   "source": []
  }
 ],
 "metadata": {
  "kernelspec": {
   "display_name": "Python 2",
   "language": "python",
   "name": "python2"
  },
  "language_info": {
   "codemirror_mode": {
    "name": "ipython",
    "version": 2
   },
   "file_extension": ".py",
   "mimetype": "text/x-python",
   "name": "python",
   "nbconvert_exporter": "python",
   "pygments_lexer": "ipython2",
   "version": "2.7.13"
  }
 },
 "nbformat": 4,
 "nbformat_minor": 2
}
